{
 "cells": [
  {
   "cell_type": "code",
   "execution_count": 2,
   "metadata": {
    "collapsed": false
   },
   "outputs": [],
   "source": [
    "import numpy as np\n",
    "from matplotlib import pyplot as plt\n",
    "%matplotlib inline"
   ]
  },
  {
   "cell_type": "code",
   "execution_count": 4,
   "metadata": {
    "collapsed": true
   },
   "outputs": [],
   "source": [
    "class LogisticRegression:\n",
    "    def __init__(self, X_train, y_train, alpha=0.01, nb_epochs=50):\n",
    "        self.y_train = y_train\n",
    "        self.alpha = alpha\n",
    "        self.nb_epochs = nb_epochs\n",
    "        self.dim = X_train.shape[1]\n",
    "        self.X_train = np.ones((X_train.shape[0], self.dim + 1))\n",
    "        self.X_train[:, 1:] = X_train\n",
    "        self.theta = np.random.random((self.dim + 1, 1))\n",
    "        self.loss_history = []\n",
    "    \n",
    "    def logit(self, x):\n",
    "        return self.sigmoid(x.dot(self.theta))\n",
    "    \n",
    "    def sigmoid(self, z):\n",
    "        return 1.0/(1.0 + np.exp(-1.0 * z))\n",
    "    \n",
    "    def compute_loss(self):\n",
    "        n = self.X_train.shape[0]\n",
    "        loss = 0.0\n",
    "        for ix in range(n):\n",
    "            hx = self.logit(self.X_train[ix])\n",
    "            error = self.y_train[ix]*np.log(hx + 1e-03) + (1 - self.y_train[ix])*np.log(1 - hx + 1e-03)\n",
    "            loss += -1.0 * error\n",
    "        return loss\n",
    "    \n",
    "    def compute_grads(self):\n",
    "        n = self.X_train.shape[0]\n",
    "        grads = np.zeros(self.theta.shape)\n",
    "        for ix in range(n):\n",
    "            gr = -1.0 * (self.y_train[ix] - self.logit(self.X_train[ix]))*self.X_train[ix]\n",
    "            grads += gr.reshape(self.theta.shape)\n",
    "        return grads/n\n",
    "    \n",
    "    def update_weights(self, alpha=None):\n",
    "        if alpha == None:\n",
    "            alpha = self.alpha\n",
    "        grads = self.compute_grads()\n",
    "        theta = self.theta - alpha*grads\n",
    "        self.theta = theta\n",
    "    \n",
    "    def predict(self, x_test):\n",
    "        x_vector = np.ones((1, x_test.shape[0] + 1))\n",
    "        x_vector[:, 1:] = x_test\n",
    "        hx = self.logit(x_vector)\n",
    "        if hx < 0.5:\n",
    "            return 0\n",
    "        else:\n",
    "            return 1\n",
    "    \n",
    "    def train(self, nb_epochs=None, record_loss=False):\n",
    "        if nb_epochs == None:\n",
    "            nb_epochs = self.nb_epochs\n",
    "        for ex in range(nb_epochs):\n",
    "            if record_loss:\n",
    "                self.loss_history.append(self.compute_loss())\n",
    "            self.update_weights()"
   ]
  },
  {
   "cell_type": "code",
   "execution_count": 6,
   "metadata": {
    "collapsed": false
   },
   "outputs": [
    {
     "name": "stdout",
     "output_type": "stream",
     "text": [
      "(500, 2) [ 0.20338626  1.47577296]\n",
      "(500,) 0.5\n"
     ]
    },
    {
     "data": {
      "image/png": "[encoded data removed]",
      "text/plain": [
       "<matplotlib.figure.Figure at 0x7fd22a16cdd0>"
      ]
     },
     "metadata": {},
     "output_type": "display_data"
    }
   ],
   "source": [
    "#Generating 2 clusters of data to apply Logistic Regression to\n",
    "\n",
    "mean_01 = np.array([1.5, 4.0])\n",
    "mean_02 = np.array([-1.0, -1.0])\n",
    "\n",
    "cov_01 = np.array([[1.0, 0.0], [0.0, 1.0]])\n",
    "cov_02 = np.array([[0.9, 0.3], [0.3, 0.9]])\n",
    "\n",
    "dist_01 = np.random.multivariate_normal(mean_01, cov_01, 250)\n",
    "dist_02 = np.random.multivariate_normal(mean_02, cov_02, 250)\n",
    "\n",
    "data = np.zeros((dist_01.shape[0] + dist_02.shape[0], dist_01.shape[1]))\n",
    "data[:dist_01.shape[0]] = dist_01\n",
    "data[dist_01.shape[0]:] = dist_02\n",
    "\n",
    "print data.shape, data.mean(axis=0)\n",
    "\n",
    "labels = np.zeros((data.shape[0],))\n",
    "labels[:dist_01.shape[0]] = 1\n",
    "\n",
    "print labels.shape, labels.mean()\n",
    "\n",
    "plt.figure(0)\n",
    "for ix in range(data.shape[0]):\n",
    "    if labels[ix] == 0:\n",
    "        plt.scatter(data[ix, 0], data[ix, 1], color='red')\n",
    "    else:\n",
    "        plt.scatter(data[ix, 0], data[ix, 1], color='green')\n",
    "plt.show()"
   ]
  },
  {
   "cell_type": "code",
   "execution_count": 8,
   "metadata": {
    "collapsed": true
   },
   "outputs": [],
   "source": [
    "all_data = np.zeros((data.shape[0], data.shape[1] + 1))\n",
    "all_data[:, :data.shape[1]] = data\n",
    "all_data[:, -1] = labels\n",
    "np.random.shuffle(all_data)\n",
    "\n",
    "split = int(0.8*all_data.shape[0])\n",
    "data_train = all_data[:split, :-1]\n",
    "data_test = all_data[split:, :-1]\n",
    "labels_train = all_data[:split, -1]\n",
    "labels_test = all_data[split:, -1]"
   ]
  },
  {
   "cell_type": "code",
   "execution_count": 9,
   "metadata": {
    "collapsed": false
   },
   "outputs": [
    {
     "name": "stdout",
     "output_type": "stream",
     "text": [
      "(400, 3)\n",
      "200\n",
      "(3, 1)\n"
     ]
    }
   ],
   "source": [
    "lr = LogisticRegression(X_train=data_train, y_train=labels_train, alpha=0.5, nb_epochs=200)\n",
    "print lr.X_train.shape\n",
    "print lr.nb_epochs\n",
    "print lr.theta.shape\n",
    "lr.train(record_loss=True)"
   ]
  },
  {
   "cell_type": "code",
   "execution_count": 12,
   "metadata": {
    "collapsed": false
   },
   "outputs": [
    {
     "data": {
      "image/png": "[encoded data removed]",
      "text/plain": [
       "<matplotlib.figure.Figure at 0x7fd2275b0690>"
      ]
     },
     "metadata": {},
     "output_type": "display_data"
    },
    {
     "name": "stdout",
     "output_type": "stream",
     "text": [
      "[[-2.42799433]\n",
      " [ 1.18343867]\n",
      " [ 2.01883569]]\n"
     ]
    }
   ],
   "source": [
    "plt.figure(0)\n",
    "plt.plot(lr.loss_history)\n",
    "plt.show()\n",
    "print lr.theta"
   ]
  },
  {
   "cell_type": "code",
   "execution_count": 13,
   "metadata": {
    "collapsed": false
   },
   "outputs": [
    {
     "name": "stdout",
     "output_type": "stream",
     "text": [
      "Accuracy: 100.0\n"
     ]
    }
   ],
   "source": [
    "preds = []\n",
    "for ix in range(data_test.shape[0]):\n",
    "    preds.append(lr.predict(data_test[ix]))\n",
    "\n",
    "count = 0\n",
    "for ix in range(labels_test.shape[0]):\n",
    "    if preds[ix] == labels_test[ix]:\n",
    "        count += 1\n",
    "print \"Accuracy:\", float(count*100)/labels_test.shape[0]"
   ]
  },
  {
   "cell_type": "code",
   "execution_count": null,
   "metadata": {
    "collapsed": true
   },
   "outputs": [],
   "source": [
    "'''\n",
    "Implementing Logistic Regression on Breast Cancer data available in sklearn\n",
    "'''"
   ]
  },
  {
   "cell_type": "code",
   "execution_count": 21,
   "metadata": {
    "collapsed": true
   },
   "outputs": [],
   "source": [
    "import sklearn\n",
    "from sklearn.datasets import load_breast_cancer\n",
    "from sklearn.metrics import accuracy_score"
   ]
  },
  {
   "cell_type": "code",
   "execution_count": 15,
   "metadata": {
    "collapsed": true
   },
   "outputs": [],
   "source": [
    "ds = load_breast_cancer()\n",
    "X = ds.data\n",
    "y = ds.target\n",
    "X = (X - X.mean(axis=0))/X.std(axis=0)        #normalization"
   ]
  },
  {
   "cell_type": "code",
   "execution_count": 18,
   "metadata": {
    "collapsed": true
   },
   "outputs": [],
   "source": [
    "split = int(0.8*X.shape[0])\n",
    "X_tr = X[:split]\n",
    "X_te = X[split:]\n",
    "y_tr = y[:split]\n",
    "y_te = y[split:]"
   ]
  },
  {
   "cell_type": "code",
   "execution_count": 19,
   "metadata": {
    "collapsed": true
   },
   "outputs": [],
   "source": [
    "lr = LogisticRegression(X_train=X_tr, y_train=y_tr, alpha=0.1, nb_epochs=200)\n",
    "lr.train(record_loss=True)"
   ]
  },
  {
   "cell_type": "code",
   "execution_count": 20,
   "metadata": {
    "collapsed": false
   },
   "outputs": [
    {
     "data": {
      "image/png": "[encoded data removed]",
      "text/plain": [
       "<matplotlib.figure.Figure at 0x7fd21f94e750>"
      ]
     },
     "metadata": {},
     "output_type": "display_data"
    }
   ],
   "source": [
    "plt.figure(0)\n",
    "plt.plot(lr.loss_history)\n",
    "plt.show()"
   ]
  },
  {
   "cell_type": "code",
   "execution_count": 22,
   "metadata": {
    "collapsed": false
   },
   "outputs": [
    {
     "name": "stdout",
     "output_type": "stream",
     "text": [
      "Accuracy Training: 97.3626373626\n",
      "Accuracy Testing: 96.4912280702\n"
     ]
    }
   ],
   "source": [
    "counts_train = 0\n",
    "for ix in range(X_tr.shape[0]):\n",
    "    pred = lr.predict(X_tr[ix])\n",
    "    if pred == y_tr[ix]:\n",
    "        counts_train += 1\n",
    "\n",
    "counts_test = 0\n",
    "for ix in range(y_te.shape[0]):\n",
    "    pred = lr.predict(X_te[ix])\n",
    "    if pred == y_te[ix]:\n",
    "        counts_test += 1\n",
    "        \n",
    "print \"Accuracy Training:\", float(counts_train*100)/y_tr.shape[0]\n",
    "print \"Accuracy Testing:\", float(counts_test*100)/y_te.shape[0]"
   ]
  },
  {
   "cell_type": "code",
   "execution_count": null,
   "metadata": {
    "collapsed": true
   },
   "outputs": [],
   "source": []
  }
 ],
 "metadata": {
  "kernelspec": {
   "display_name": "Python 2",
   "language": "python",
   "name": "python2"
  },
  "language_info": {
   "codemirror_mode": {
    "name": "ipython",
    "version": 2
   },
   "file_extension": ".py",
   "mimetype": "text/x-python",
   "name": "python",
   "nbconvert_exporter": "python",
   "pygments_lexer": "ipython2",
   "version": "2.7.12"
  }
 },
 "nbformat": 4,
 "nbformat_minor": 2
}
