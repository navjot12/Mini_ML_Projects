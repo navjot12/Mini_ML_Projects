{
 "cells": [
  {
   "cell_type": "code",
   "execution_count": 2,
   "metadata": {
    "collapsed": true
   },
   "outputs": [],
   "source": [
    "import numpy as np\n",
    "import pandas as pd\n",
    "from matplotlib import pyplot as plt\n",
    "%matplotlib inline"
   ]
  },
  {
   "cell_type": "code",
   "execution_count": 3,
   "metadata": {
    "collapsed": false
   },
   "outputs": [
    {
     "name": "stdout",
     "output_type": "stream",
     "text": [
      "(20000, 784) (20000,)\n",
      "(10000, 784) (10000,)\n"
     ]
    }
   ],
   "source": [
    "ds = pd.read_csv('./train.csv')\n",
    "\n",
    "data = ds.values\n",
    "\n",
    "y_train = data[:20000,0]\n",
    "X_train = data[:20000,1:]\n",
    "\n",
    "y_test = data[32000:, 0]\n",
    "X_test = data[32000:, 1:]\n",
    "\n",
    "print X_train.shape, y_train.shape\n",
    "print X_test.shape, y_test.shape"
   ]
  },
  {
   "cell_type": "code",
   "execution_count": 4,
   "metadata": {
    "collapsed": true
   },
   "outputs": [],
   "source": [
    "def dist(p1, p2):\n",
    "    return np.sqrt(((p1 - p2)**2).sum())"
   ]
  },
  {
   "cell_type": "code",
   "execution_count": 5,
   "metadata": {
    "collapsed": true
   },
   "outputs": [],
   "source": [
    "def KMeansClustering(X_data, y_data, k=10, stop_iter=10, def_clusters=None):\n",
    "    dim = X_data.shape[1]\n",
    "    if def_clusters is None:\n",
    "        centers = np.random.uniform(low=X_data.min(), high=X_data.max(), size=(k, dim))\n",
    "        clusters = {}\n",
    "        for kx in range(k):\n",
    "            clusters[kx] = {\n",
    "                'center': centers[kx, :],\n",
    "                'points': [],       #for temporarily holding all points in current cluster\n",
    "                'answer': [],       #for temporarily holding digit values of all points in current cluster\n",
    "                'final' : 0,        #digit value represented by that cluster- 0,1,2,3,4,5,6,7,8 or 9\n",
    "            }\n",
    "    else:                           #for predefined initial cluster centers\n",
    "        clusters = def_clusters\n",
    "    \n",
    "    curr_iter = 0\n",
    "    while curr_iter < stop_iter:\n",
    "        for px in range(X_data.shape[0]):       #This loop finds distance of each point with each cluster center - and assigns point to cluster (center) with which it has minimum distance\n",
    "            distance_px = []\n",
    "            for kx in range(k):\n",
    "                try:\n",
    "                    distance_px.append(dist(X_data[px, :], clusters[kx]['center']))\n",
    "                except:\n",
    "                    distance_px.append(float(\"inf\"))\n",
    "            distance_px = np.asarray(distance_px)\n",
    "            c_id = distance_px.argmin()\n",
    "            clusters[c_id]['points'].append(X_data[px, :])\n",
    "            clusters[c_id]['answer'].append(y_data[px])\n",
    "        \n",
    "        for kx in range(k):                     #This loop finds new cluster center depending on the cluster formed\n",
    "            try:\n",
    "                pts = np.asarray(clusters[kx]['points'])\n",
    "            except:\n",
    "                continue\n",
    "            if len(clusters[kx]['points']) == 0:\n",
    "                del clusters[kx]\n",
    "            else:\n",
    "                clusters[kx]['center'] = pts.mean(axis=0)\n",
    "                temp = np.asarray(clusters[kx]['answer'])\n",
    "                temp = np.unique(temp, return_counts = True)\n",
    "                #print temp\n",
    "                idx = temp[1].argmax()\n",
    "                clusters[kx]['final'] = temp[0][idx]\n",
    "                clusters[kx]['points'] = []\n",
    "                clusters[kx]['answer'] = []\n",
    "            \n",
    "        curr_iter += 1\n",
    "\n",
    "    return clusters"
   ]
  },
  {
   "cell_type": "code",
   "execution_count": 6,
   "metadata": {
    "collapsed": false
   },
   "outputs": [
    {
     "name": "stdout",
     "output_type": "stream",
     "text": [
      "14\n",
      "0\n",
      "3\n",
      "8\n",
      "0\n",
      "6\n",
      "1\n",
      "9\n",
      "4\n",
      "5\n",
      "2\n",
      "9\n",
      "7\n",
      "1\n",
      "3\n"
     ]
    }
   ],
   "source": [
    "main_centers = KMeansClustering(X_train, y_train, k=15, stop_iter=12)\n",
    "print len(main_centers.keys())\n",
    "\n",
    "for kx in main_centers.keys():\n",
    "    print main_centers[kx]['final']\n"
   ]
  },
  {
   "cell_type": "code",
   "execution_count": 9,
   "metadata": {
    "collapsed": true
   },
   "outputs": [],
   "source": [
    "def hellinger_dist(x1, x2):\n",
    "    return np.sqrt(0.5*((np.sqrt(x1) - np.sqrt(x2))**2).sum())\n",
    "\n",
    "def findCluster(x):    \n",
    "    vals = []\n",
    "    for kx in main_centers.keys():\n",
    "        v = [hellinger_dist(x, main_centers[kx]['center']), main_centers[kx]['final']]\n",
    "        vals.append(v)\n",
    "    vals = sorted(vals, key=lambda x:x[0])\n",
    "    return vals[0][1]"
   ]
  },
  {
   "cell_type": "code",
   "execution_count": 10,
   "metadata": {
    "collapsed": false
   },
   "outputs": [
    {
     "name": "stdout",
     "output_type": "stream",
     "text": [
      "3\n",
      "2\n"
     ]
    }
   ],
   "source": [
    "print findCluster(X_test[500])\n",
    "print y_test[500]"
   ]
  },
  {
   "cell_type": "code",
   "execution_count": 11,
   "metadata": {
    "collapsed": false
   },
   "outputs": [
    {
     "name": "stdout",
     "output_type": "stream",
     "text": [
      "Hit 500:\tC:244\tI:207\tA:48.8\tF: 49\n",
      "Hit 1000:\tC:482\tI:419\tA:48.2\tF: 99\n",
      "Hit 1500:\tC:728\tI:633\tA:48.5333333333\tF: 139\n",
      "Hit 2000:\tC:976\tI:840\tA:48.8\tF: 184\n",
      "Hit 2500:\tC:1229\tI:1034\tA:49.16\tF: 237\n",
      "Hit 3000:\tC:1468\tI:1240\tA:48.9333333333\tF: 292\n",
      "Hit 3500:\tC:1733\tI:1439\tA:49.5142857143\tF: 328\n",
      "Hit 4000:\tC:1989\tI:1636\tA:49.725\tF: 375\n",
      "Hit 4500:\tC:2221\tI:1850\tA:49.3555555556\tF: 429\n",
      "Hit 5000:\tC:2487\tI:2036\tA:49.74\tF: 477\n",
      "Hit 5500:\tC:2729\tI:2248\tA:49.6181818182\tF: 523\n",
      "Hit 6000:\tC:2974\tI:2468\tA:49.5666666667\tF: 558\n",
      "Hit 6500:\tC:3252\tI:2647\tA:50.0307692308\tF: 601\n",
      "Hit 7000:\tC:3496\tI:2854\tA:49.9428571429\tF: 650\n",
      "Hit 7500:\tC:3762\tI:3051\tA:50.16\tF: 687\n",
      "Hit 8000:\tC:4022\tI:3248\tA:50.275\tF: 730\n",
      "Hit 8500:\tC:4278\tI:3459\tA:50.3294117647\tF: 763\n",
      "Hit 9000:\tC:4518\tI:3675\tA:50.2\tF: 807\n",
      "Hit 9500:\tC:4767\tI:3876\tA:50.1789473684\tF: 857\n",
      "Correct: 5037\n",
      "Incorrect: 4071\n",
      "\n",
      "Accuracy for K-Means Square on MNIST Data: 55.303030303\n"
     ]
    }
   ],
   "source": [
    "correct = 0\n",
    "incorrect = 0\n",
    "fives = 0\n",
    "\n",
    "for ix in range(X_test.shape[0]):\n",
    "    if ix % 500 == 0 and ix>0:\n",
    "        print 'Hit ' + str(ix) + ':\\tC:' + str(correct) + '\\tI:' + str(incorrect) + '\\tA:' + str((float(correct)/ix)*100) + '\\tF: ' + str(fives)\n",
    "    if y_test[ix] == 5:           #since we're not able to get clusters of 5\n",
    "        fives += 1\n",
    "        continue\n",
    "    res = findCluster(X_test[ix])\n",
    "    if res == y_test[ix]:\n",
    "        correct += 1\n",
    "    else:\n",
    "        incorrect += 1\n",
    "\n",
    "print 'Correct: ' + str(correct)\n",
    "print 'Incorrect: ' + str(incorrect)\n",
    "accuracy = ( float(correct) / (correct+incorrect) )*100\n",
    "\n",
    "print '\\n' + 'Accuracy for K-Means Square on MNIST Data: ' + str(accuracy)"
   ]
  },
  {
   "cell_type": "code",
   "execution_count": null,
   "metadata": {
    "collapsed": true
   },
   "outputs": [],
   "source": [
    "'''ALTERNATIVE APPROACH TO K-MEANS SQUARE FOR MNIST DATA\n",
    "\n",
    "PROBLEM: Not able to get clusters of digit 5.\n",
    "\n",
    "HYPOTHESIZED SOLUTION: To form initial clusters by taking mean of all points of one class in training set.\n",
    "\n",
    "'''"
   ]
  },
  {
   "cell_type": "code",
   "execution_count": 15,
   "metadata": {
    "collapsed": true
   },
   "outputs": [],
   "source": [
    "def formClusters(X_data, y_data):\n",
    "    \n",
    "    clusters = {}\n",
    "    for px in range(X_data.shape[0]):\n",
    "        if y_data[px] in clusters.keys():\n",
    "            clusters[y_data[px]]['points'].append(X_data[px])\n",
    "        else:\n",
    "            clusters[y_data[px]] = {\n",
    "                'center': [],\n",
    "                'points': [X_data[px]],\n",
    "            }\n",
    "\n",
    "    for kx in clusters.keys():\n",
    "        clusters[kx]['center'] = np.mean(clusters[kx]['points'], axis=0)\n",
    "\n",
    "    return clusters"
   ]
  },
  {
   "cell_type": "code",
   "execution_count": 16,
   "metadata": {
    "collapsed": false
   },
   "outputs": [],
   "source": [
    "clusters = formClusters(X_train, y_train)"
   ]
  },
  {
   "cell_type": "code",
   "execution_count": 19,
   "metadata": {
    "collapsed": false
   },
   "outputs": [],
   "source": [
    "def findClusterModified(x):    \n",
    "    vals = []\n",
    "    for kx in clusters.keys():\n",
    "        v = [hellinger_dist(x, clusters[kx]['center']), kx]\n",
    "        vals.append(v)\n",
    "    vals = sorted(vals, key=lambda x:x[0])\n",
    "    return vals[0][1]"
   ]
  },
  {
   "cell_type": "code",
   "execution_count": 20,
   "metadata": {
    "collapsed": false
   },
   "outputs": [
    {
     "name": "stdout",
     "output_type": "stream",
     "text": [
      "Hit 500:\tC:338\tI:162\tA:67.6\n",
      "Hit 1000:\tC:682\tI:318\tA:68.2\n",
      "Hit 1500:\tC:1025\tI:475\tA:68.3333333333\n",
      "Hit 2000:\tC:1380\tI:620\tA:69.0\n",
      "Hit 2500:\tC:1728\tI:772\tA:69.12\n",
      "Hit 3000:\tC:2065\tI:935\tA:68.8333333333\n",
      "Hit 3500:\tC:2423\tI:1077\tA:69.2285714286\n",
      "Hit 4000:\tC:2766\tI:1234\tA:69.15\n",
      "Hit 4500:\tC:3087\tI:1413\tA:68.6\n",
      "Hit 5000:\tC:3439\tI:1561\tA:68.78\n",
      "Hit 5500:\tC:3768\tI:1732\tA:68.5090909091\n",
      "Hit 6000:\tC:4101\tI:1899\tA:68.35\n",
      "Hit 6500:\tC:4460\tI:2040\tA:68.6153846154\n",
      "Hit 7000:\tC:4793\tI:2207\tA:68.4714285714\n",
      "Hit 7500:\tC:5162\tI:2338\tA:68.8266666667\n",
      "Hit 8000:\tC:5515\tI:2485\tA:68.9375\n",
      "Hit 8500:\tC:5854\tI:2646\tA:68.8705882353\n",
      "Hit 9000:\tC:6201\tI:2799\tA:68.9\n",
      "Hit 9500:\tC:6537\tI:2963\tA:68.8105263158\n",
      "Correct: 6898\n",
      "Incorrect: 3102\n",
      "\n",
      "Accuracy for K-Means Square on MNIST Data: 68.98\n"
     ]
    }
   ],
   "source": [
    "correct = 0\n",
    "incorrect = 0\n",
    "\n",
    "for ix in range(X_test.shape[0]):\n",
    "    if ix % 500 == 0 and ix>0:\n",
    "        print 'Hit ' + str(ix) + ':\\tC:' + str(correct) + '\\tI:' + str(incorrect) + '\\tA:' + str((float(correct)/ix)*100)\n",
    "    res = findClusterModified(X_test[ix])\n",
    "    if res == y_test[ix]:\n",
    "        correct += 1\n",
    "    else:\n",
    "        incorrect += 1\n",
    "\n",
    "print 'Correct: ' + str(correct)\n",
    "print 'Incorrect: ' + str(incorrect)\n",
    "accuracy = ( float(correct) / (correct+incorrect) )*100\n",
    "\n",
    "print '\\n' + 'Accuracy for Modified K-Means Square on MNIST Data: ' + str(accuracy)"
   ]
  },
  {
   "cell_type": "code",
   "execution_count": null,
   "metadata": {
    "collapsed": true
   },
   "outputs": [],
   "source": []
  }
 ],
 "metadata": {
  "kernelspec": {
   "display_name": "Python 2",
   "language": "python",
   "name": "python2"
  },
  "language_info": {
   "codemirror_mode": {
    "name": "ipython",
    "version": 2
   },
   "file_extension": ".py",
   "mimetype": "text/x-python",
   "name": "python",
   "nbconvert_exporter": "python",
   "pygments_lexer": "ipython2",
   "version": "2.7.12"
  }
 },
 "nbformat": 4,
 "nbformat_minor": 2
}
