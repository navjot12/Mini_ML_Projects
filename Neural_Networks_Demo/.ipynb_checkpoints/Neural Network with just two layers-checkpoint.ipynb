{
 "cells": [
  {
   "cell_type": "code",
   "execution_count": 1,
   "metadata": {
    "collapsed": false,
    "scrolled": true
   },
   "outputs": [
    {
     "name": "stderr",
     "output_type": "stream",
     "text": [
      "Using Theano backend.\n"
     ]
    }
   ],
   "source": [
    "import numpy as np\n",
    "from matplotlib import pyplot as plt\n",
    "%matplotlib inline\n",
    "\n",
    "#----------------keras imports-------------------#\n",
    "import keras\n",
    "from keras.layers import Input, Dense, Activation\n",
    "from keras.models import Sequential\n",
    "from keras.utils import np_utils"
   ]
  },
  {
   "cell_type": "code",
   "execution_count": 2,
   "metadata": {
    "collapsed": false
   },
   "outputs": [],
   "source": [
    "mean_01 = np.array([3.0, 3.0])\n",
    "cov_01 = np.array([[1.0, 0.0], [0.0, 1.0]])\n",
    "\n",
    "mean_02 = np.array([-3.0, 1.0])\n",
    "cov_02 = np.array([[0.5, 0.4], [0.4, 0.7]])\n",
    "\n",
    "mean_03 = np.array([1.0, 1.0])\n",
    "cov_03 = np.array([[0.5, 0.4], [0.4, 0.7]])\n",
    "\n",
    "dist_01 = np.random.multivariate_normal(mean_01, cov_01, 250)\n",
    "dist_02 = np.random.multivariate_normal(mean_02, cov_02, 250)\n",
    "dist_03 = np.random.multivariate_normal(mean_03, cov_03, 250)\n",
    "\n",
    "total_data_size = dist_01.shape[0] + dist_02.shape[0] + dist_03.shape[0]\n",
    "data_dim = dist_01.shape[1]\n",
    "\n",
    "labels = np.zeros((total_data_size,))\n",
    "labels[dist_01.shape[0]:dist_01.shape[0]+dist_02.shape[0]] = 1\n",
    "labels[dist_01.shape[0]+dist_02.shape[0]:] = 2\n",
    "\n",
    "data = np.zeros((total_data_size, data_dim + 1))\n",
    "\n",
    "data[:dist_01.shape[0], :data_dim] = dist_01\n",
    "data[dist_01.shape[0]:dist_01.shape[0] + dist_02.shape[0], :data_dim] = dist_02\n",
    "data[dist_01.shape[0] + dist_02.shape[0]:, :data_dim] = dist_03\n",
    "\n",
    "data[:, -1] = labels\n",
    "\n",
    "np.random.shuffle(data)"
   ]
  },
  {
   "cell_type": "code",
   "execution_count": 3,
   "metadata": {
    "collapsed": false
   },
   "outputs": [
    {
     "data": {
      "image/png": "[encoded data removed]",
      "text/plain": [
       "<matplotlib.figure.Figure at 0x7facdac35e10>"
      ]
     },
     "metadata": {},
     "output_type": "display_data"
    }
   ],
   "source": [
    "plt.figure(0)\n",
    "\n",
    "for ix in range(data.shape[0]):\n",
    "    if data[ix, -1] == 0:\n",
    "        plt.scatter(data[ix, 0], data[ix, 1], color='red')\n",
    "    elif data[ix, -1] == 1:\n",
    "        plt.scatter(data[ix, 0], data[ix, 1], color='green')\n",
    "    else:\n",
    "        plt.scatter(data[ix, 0], data[ix, 1], color='blue')\n",
    "plt.show()"
   ]
  },
  {
   "cell_type": "code",
   "execution_count": 4,
   "metadata": {
    "collapsed": false
   },
   "outputs": [
    {
     "name": "stdout",
     "output_type": "stream",
     "text": [
      "(600, 2) (150, 2)\n",
      "(600, 3) (150, 3)\n"
     ]
    }
   ],
   "source": [
    "split = int(total_data_size * 0.8)\n",
    "X_train = data[:split, :-1]\n",
    "X_val = data[split:, :-1]\n",
    "y_train = np_utils.to_categorical(data[:split, -1])\n",
    "y_val = np_utils.to_categorical(data[split:, -1])\n",
    "print X_train.shape, X_val.shape\n",
    "print y_train.shape, y_val.shape"
   ]
  },
  {
   "cell_type": "code",
   "execution_count": 5,
   "metadata": {
    "collapsed": false
   },
   "outputs": [
    {
     "name": "stdout",
     "output_type": "stream",
     "text": [
      "____________________________________________________________________________________________________\n",
      "Layer (type)                     Output Shape          Param #     Connected to                     \n",
      "====================================================================================================\n",
      "dense_1 (Dense)                  (None, 3)             9           dense_input_1[0][0]              \n",
      "____________________________________________________________________________________________________\n",
      "activation_1 (Activation)        (None, 3)             0           dense_1[0][0]                    \n",
      "====================================================================================================\n",
      "Total params: 9\n",
      "Trainable params: 9\n",
      "Non-trainable params: 0\n",
      "____________________________________________________________________________________________________\n"
     ]
    }
   ],
   "source": [
    "# Keras model\n",
    "\n",
    "model = Sequential()\n",
    "\n",
    "fc1 = Dense(3, input_shape=(2,))\n",
    "model.add(fc1)\n",
    "\n",
    "model.add(Activation('softmax'))\n",
    "\n",
    "model.summary()\n",
    "model.compile(loss='binary_crossentropy', optimizer='sgd', metrics=['accuracy'])"
   ]
  },
  {
   "cell_type": "code",
   "execution_count": 6,
   "metadata": {
    "collapsed": false
   },
   "outputs": [
    {
     "name": "stdout",
     "output_type": "stream",
     "text": [
      "Train on 600 samples, validate on 150 samples\n",
      "Epoch 1/100\n",
      "600/600 [==============================] - 0s - loss: 1.0056 - acc: 0.4789 - val_loss: 0.8856 - val_acc: 0.5422\b\b\b\b\b\b\b\b\b\b\b\b\b\b\b\b\b\b\b\b\b\b\b\b\b\b\b\b\b\b\b\b\b\b\b\b\b\b\b\b\b\b\b\b\b\b\b\n",
      "Epoch 2/100\n",
      "600/600 [==============================] - 0s - loss: 0.7515 - acc: 0.6017 - val_loss: 0.6990 - val_acc: 0.6022\b\b\b\b\b\b\b\b\b\b\b\b\b\b\b\b\b\b\b\b\b\b\b\b\b\b\b\b\b\b\b\b\b\b\b\b\b\b\b\b\b\b\b\b\b\b\b\n",
      "Epoch 3/100\n",
      "600/600 [==============================] - 0s - loss: 0.6039 - acc: 0.6467 - val_loss: 0.5849 - val_acc: 0.6333\b\b\b\b\b\b\b\b\b\b\b\b\b\b\b\b\b\b\b\b\b\b\b\b\b\b\b\b\b\b\b\b\b\b\b\b\b\b\b\b\b\b\b\b\b\b\b\n",
      "Epoch 4/100\n",
      "600/600 [==============================] - 0s - loss: 0.5144 - acc: 0.7050 - val_loss: 0.5123 - val_acc: 0.7089\b\b\b\b\b\b\b\b\b\b\b\b\b\b\b\b\b\b\b\b\b\b\b\b\b\b\b\b\b\b\b\b\b\b\b\b\b\b\b\b\b\b\b\b\b\b\b\n",
      "Epoch 5/100\n",
      "600/600 [==============================] - 0s - loss: 0.4575 - acc: 0.7856 - val_loss: 0.4636 - val_acc: 0.7711\b\b\b\b\b\b\b\b\b\b\b\b\b\b\b\b\b\b\b\b\b\b\b\b\b\b\b\b\b\b\b\b\b\b\b\b\b\b\b\b\b\b\b\b\b\b\b\n",
      "Epoch 6/100\n",
      "600/600 [==============================] - 0s - loss: 0.4189 - acc: 0.8222 - val_loss: 0.4293 - val_acc: 0.8044\b\b\b\b\b\b\b\b\b\b\b\b\b\b\b\b\b\b\b\b\b\b\b\b\b\b\b\b\b\b\b\b\b\b\b\b\b\b\b\b\b\b\b\b\b\b\b\n",
      "Epoch 7/100\n",
      "600/600 [==============================] - 0s - loss: 0.3917 - acc: 0.8300 - val_loss: 0.4042 - val_acc: 0.8244\b\b\b\b\b\b\b\b\b\b\b\b\b\b\b\b\b\b\b\b\b\b\b\b\b\b\b\b\b\b\b\b\b\b\b\b\b\b\b\b\b\b\b\b\b\b\b\n",
      "Epoch 8/100\n",
      "600/600 [==============================] - 0s - loss: 0.3716 - acc: 0.8356 - val_loss: 0.3851 - val_acc: 0.8267\b\b\b\b\b\b\b\b\b\b\b\b\b\b\b\b\b\b\b\b\b\b\b\b\b\b\b\b\b\b\b\b\b\b\b\b\b\b\b\b\b\b\b\b\b\b\b\n",
      "Epoch 9/100\n",
      "600/600 [==============================] - 0s - loss: 0.3561 - acc: 0.8422 - val_loss: 0.3700 - val_acc: 0.8311\b\b\b\b\b\b\b\b\b\b\b\b\b\b\b\b\b\b\b\b\b\b\b\b\b\b\b\b\b\b\b\b\b\b\b\b\b\b\b\b\b\b\b\b\b\b\b\n",
      "Epoch 10/100\n",
      "600/600 [==============================] - 0s - loss: 0.3437 - acc: 0.8433 - val_loss: 0.3576 - val_acc: 0.8311\b\b\b\b\b\b\b\b\b\b\b\b\b\b\b\b\b\b\b\b\b\b\b\b\b\b\b\b\b\b\b\b\b\b\b\b\b\b\b\b\b\b\b\b\b\b\b\n",
      "Epoch 11/100\n",
      "600/600 [==============================] - 0s - loss: 0.3336 - acc: 0.8461 - val_loss: 0.3473 - val_acc: 0.8333\b\b\b\b\b\b\b\b\b\b\b\b\b\b\b\b\b\b\b\b\b\b\b\b\b\b\b\b\b\b\b\b\b\b\b\b\b\b\b\b\b\b\b\b\b\b\b\n",
      "Epoch 12/100\n",
      "600/600 [==============================] - 0s - loss: 0.3251 - acc: 0.8461 - val_loss: 0.3385 - val_acc: 0.8333\b\b\b\b\b\b\b\b\b\b\b\b\b\b\b\b\b\b\b\b\b\b\b\b\b\b\b\b\b\b\b\b\b\b\b\b\b\b\b\b\b\b\b\b\b\b\b\n",
      "Epoch 13/100\n",
      "600/600 [==============================] - 0s - loss: 0.3177 - acc: 0.8467 - val_loss: 0.3308 - val_acc: 0.8333\b\b\b\b\b\b\b\b\b\b\b\b\b\b\b\b\b\b\b\b\b\b\b\b\b\b\b\b\b\b\b\b\b\b\b\b\b\b\b\b\b\b\b\b\b\b\b\n",
      "Epoch 14/100\n",
      "600/600 [==============================] - 0s - loss: 0.3114 - acc: 0.8472 - val_loss: 0.3240 - val_acc: 0.8333\b\b\b\b\b\b\b\b\b\b\b\b\b\b\b\b\b\b\b\b\b\b\b\b\b\b\b\b\b\b\b\b\b\b\b\b\b\b\b\b\b\b\b\b\b\b\b\n",
      "Epoch 15/100\n",
      "600/600 [==============================] - 0s - loss: 0.3057 - acc: 0.8506 - val_loss: 0.3181 - val_acc: 0.8333\b\b\b\b\b\b\b\b\b\b\b\b\b\b\b\b\b\b\b\b\b\b\b\b\b\b\b\b\b\b\b\b\b\b\b\b\b\b\b\b\b\b\b\b\b\b\b\n",
      "Epoch 16/100\n",
      "600/600 [==============================] - 0s - loss: 0.3006 - acc: 0.8500 - val_loss: 0.3128 - val_acc: 0.8333\b\b\b\b\b\b\b\b\b\b\b\b\b\b\b\b\b\b\b\b\b\b\b\b\b\b\b\b\b\b\b\b\b\b\b\b\b\b\b\b\b\b\b\b\b\b\b\n",
      "Epoch 17/100\n",
      "600/600 [==============================] - 0s - loss: 0.2961 - acc: 0.8500 - val_loss: 0.3079 - val_acc: 0.8333\b\b\b\b\b\b\b\b\b\b\b\b\b\b\b\b\b\b\b\b\b\b\b\b\b\b\b\b\b\b\b\b\b\b\b\b\b\b\b\b\b\b\b\b\b\b\b\n",
      "Epoch 18/100\n",
      "600/600 [==============================] - 0s - loss: 0.2919 - acc: 0.8517 - val_loss: 0.3035 - val_acc: 0.8333\b\b\b\b\b\b\b\b\b\b\b\b\b\b\b\b\b\b\b\b\b\b\b\b\b\b\b\b\b\b\b\b\b\b\b\b\b\b\b\b\b\b\b\b\b\b\b\n",
      "Epoch 19/100\n",
      "600/600 [==============================] - 0s - loss: 0.2881 - acc: 0.8528 - val_loss: 0.2995 - val_acc: 0.8356\b\b\b\b\b\b\b\b\b\b\b\b\b\b\b\b\b\b\b\b\b\b\b\b\b\b\b\b\b\b\b\b\b\b\b\b\b\b\b\b\b\b\b\b\b\b\b\n",
      "Epoch 20/100\n",
      "600/600 [==============================] - 0s - loss: 0.2845 - acc: 0.8544 - val_loss: 0.2956 - val_acc: 0.8444\b\b\b\b\b\b\b\b\b\b\b\b\b\b\b\b\b\b\b\b\b\b\b\b\b\b\b\b\b\b\b\b\b\b\b\b\b\b\b\b\b\b\b\b\b\b\b\n",
      "Epoch 21/100\n",
      "600/600 [==============================] - 0s - loss: 0.2811 - acc: 0.8539 - val_loss: 0.2919 - val_acc: 0.8444\b\b\b\b\b\b\b\b\b\b\b\b\b\b\b\b\b\b\b\b\b\b\b\b\b\b\b\b\b\b\b\b\b\b\b\b\b\b\b\b\b\b\b\b\b\b\b\n",
      "Epoch 22/100\n",
      "600/600 [==============================] - 0s - loss: 0.2779 - acc: 0.8578 - val_loss: 0.2885 - val_acc: 0.8444\b\b\b\b\b\b\b\b\b\b\b\b\b\b\b\b\b\b\b\b\b\b\b\b\b\b\b\b\b\b\b\b\b\b\b\b\b\b\b\b\b\b\b\b\b\b\b\n",
      "Epoch 23/100\n",
      "600/600 [==============================] - 0s - loss: 0.2750 - acc: 0.8572 - val_loss: 0.2854 - val_acc: 0.8444\b\b\b\b\b\b\b\b\b\b\b\b\b\b\b\b\b\b\b\b\b\b\b\b\b\b\b\b\b\b\b\b\b\b\b\b\b\b\b\b\b\b\b\b\b\b\b\n",
      "Epoch 24/100\n",
      "600/600 [==============================] - 0s - loss: 0.2722 - acc: 0.8589 - val_loss: 0.2823 - val_acc: 0.8444\b\b\b\b\b\b\b\b\b\b\b\b\b\b\b\b\b\b\b\b\b\b\b\b\b\b\b\b\b\b\b\b\b\b\b\b\b\b\b\b\b\b\b\b\b\b\b\n",
      "Epoch 25/100\n",
      "600/600 [==============================] - 0s - loss: 0.2695 - acc: 0.8594 - val_loss: 0.2793 - val_acc: 0.8422\b\b\b\b\b\b\b\b\b\b\b\b\b\b\b\b\b\b\b\b\b\b\b\b\b\b\b\b\b\b\b\b\b\b\b\b\b\b\b\b\b\b\b\b\b\b\b\n",
      "Epoch 26/100\n",
      "600/600 [==============================] - 0s - loss: 0.2670 - acc: 0.8600 - val_loss: 0.2765 - val_acc: 0.8422\b\b\b\b\b\b\b\b\b\b\b\b\b\b\b\b\b\b\b\b\b\b\b\b\b\b\b\b\b\b\b\b\b\b\b\b\b\b\b\b\b\b\b\b\b\b\b\n",
      "Epoch 27/100\n",
      "600/600 [==============================] - 0s - loss: 0.2646 - acc: 0.8617 - val_loss: 0.2740 - val_acc: 0.8444\b\b\b\b\b\b\b\b\b\b\b\b\b\b\b\b\b\b\b\b\b\b\b\b\b\b\b\b\b\b\b\b\b\b\b\b\b\b\b\b\b\b\b\b\b\b\b\n",
      "Epoch 28/100\n",
      "600/600 [==============================] - 0s - loss: 0.2623 - acc: 0.8611 - val_loss: 0.2714 - val_acc: 0.8444\b\b\b\b\b\b\b\b\b\b\b\b\b\b\b\b\b\b\b\b\b\b\b\b\b\b\b\b\b\b\b\b\b\b\b\b\b\b\b\b\b\b\b\b\b\b\b\n",
      "Epoch 29/100\n",
      "600/600 [==============================] - 0s - loss: 0.2600 - acc: 0.8622 - val_loss: 0.2690 - val_acc: 0.8467\b\b\b\b\b\b\b\b\b\b\b\b\b\b\b\b\b\b\b\b\b\b\b\b\b\b\b\b\b\b\b\b\b\b\b\b\b\b\b\b\b\b\b\b\b\b\b\n",
      "Epoch 30/100\n",
      "600/600 [==============================] - 0s - loss: 0.2578 - acc: 0.8633 - val_loss: 0.2666 - val_acc: 0.8489\b\b\b\b\b\b\b\b\b\b\b\b\b\b\b\b\b\b\b\b\b\b\b\b\b\b\b\b\b\b\b\b\b\b\b\b\b\b\b\b\b\b\b\b\b\b\b\n",
      "Epoch 31/100\n",
      "600/600 [==============================] - 0s - loss: 0.2557 - acc: 0.8656 - val_loss: 0.2643 - val_acc: 0.8511\b\b\b\b\b\b\b\b\b\b\b\b\b\b\b\b\b\b\b\b\b\b\b\b\b\b\b\b\b\b\b\b\b\b\b\b\b\b\b\b\b\b\b\b\b\b\b\n",
      "Epoch 32/100\n",
      "600/600 [==============================] - 0s - loss: 0.2536 - acc: 0.8672 - val_loss: 0.2620 - val_acc: 0.8511\b\b\b\b\b\b\b\b\b\b\b\b\b\b\b\b\b\b\b\b\b\b\b\b\b\b\b\b\b\b\b\b\b\b\b\b\b\b\b\b\b\b\b\b\b\b\b\n",
      "Epoch 33/100\n",
      "600/600 [==============================] - 0s - loss: 0.2517 - acc: 0.8689 - val_loss: 0.2599 - val_acc: 0.8556\b\b\b\b\b\b\b\b\b\b\b\b\b\b\b\b\b\b\b\b\b\b\b\b\b\b\b\b\b\b\b\b\b\b\b\b\b\b\b\b\b\b\b\b\b\b\b\n",
      "Epoch 34/100\n",
      "600/600 [==============================] - 0s - loss: 0.2498 - acc: 0.8706 - val_loss: 0.2578 - val_acc: 0.8556\b\b\b\b\b\b\b\b\b\b\b\b\b\b\b\b\b\b\b\b\b\b\b\b\b\b\b\b\b\b\b\b\b\b\b\b\b\b\b\b\b\b\b\b\b\b\b\n",
      "Epoch 35/100\n",
      "600/600 [==============================] - 0s - loss: 0.2479 - acc: 0.8706 - val_loss: 0.2558 - val_acc: 0.8556\b\b\b\b\b\b\b\b\b\b\b\b\b\b\b\b\b\b\b\b\b\b\b\b\b\b\b\b\b\b\b\b\b\b\b\b\b\b\b\b\b\b\b\b\b\b\b\n",
      "Epoch 36/100\n",
      "600/600 [==============================] - 0s - loss: 0.2461 - acc: 0.8728 - val_loss: 0.2538 - val_acc: 0.8578\b\b\b\b\b\b\b\b\b\b\b\b\b\b\b\b\b\b\b\b\b\b\b\b\b\b\b\b\b\b\b\b\b\b\b\b\b\b\b\b\b\b\b\b\b\b\b\n",
      "Epoch 37/100\n",
      "600/600 [==============================] - 0s - loss: 0.2444 - acc: 0.8744 - val_loss: 0.2519 - val_acc: 0.8578\b\b\b\b\b\b\b\b\b\b\b\b\b\b\b\b\b\b\b\b\b\b\b\b\b\b\b\b\b\b\b\b\b\b\b\b\b\b\b\b\b\b\b\b\b\b\b\n",
      "Epoch 38/100\n",
      "600/600 [==============================] - 0s - loss: 0.2426 - acc: 0.8756 - val_loss: 0.2501 - val_acc: 0.8600\b\b\b\b\b\b\b\b\b\b\b\b\b\b\b\b\b\b\b\b\b\b\b\b\b\b\b\b\b\b\b\b\b\b\b\b\b\b\b\b\b\b\b\b\b\b\b\n",
      "Epoch 39/100\n",
      "600/600 [==============================] - 0s - loss: 0.2409 - acc: 0.8800 - val_loss: 0.2481 - val_acc: 0.8622\b\b\b\b\b\b\b\b\b\b\b\b\b\b\b\b\b\b\b\b\b\b\b\b\b\b\b\b\b\b\b\b\b\b\b\b\b\b\b\b\b\b\b\b\b\b\b\n",
      "Epoch 40/100\n",
      "600/600 [==============================] - 0s - loss: 0.2394 - acc: 0.8817 - val_loss: 0.2463 - val_acc: 0.8667\b\b\b\b\b\b\b\b\b\b\b\b\b\b\b\b\b\b\b\b\b\b\b\b\b\b\b\b\b\b\b\b\b\b\b\b\b\b\b\b\b\b\b\b\b\b\b\n",
      "Epoch 41/100\n",
      "600/600 [==============================] - 0s - loss: 0.2377 - acc: 0.8839 - val_loss: 0.2447 - val_acc: 0.8689\b\b\b\b\b\b\b\b\b\b\b\b\b\b\b\b\b\b\b\b\b\b\b\b\b\b\b\b\b\b\b\b\b\b\b\b\b\b\b\b\b\b\b\b\b\b\b\n",
      "Epoch 42/100\n",
      "600/600 [==============================] - 0s - loss: 0.2362 - acc: 0.8844 - val_loss: 0.2429 - val_acc: 0.8689\b\b\b\b\b\b\b\b\b\b\b\b\b\b\b\b\b\b\b\b\b\b\b\b\b\b\b\b\b\b\b\b\b\b\b\b\b\b\b\b\b\b\b\b\b\b\b\n",
      "Epoch 43/100\n",
      "600/600 [==============================] - 0s - loss: 0.2346 - acc: 0.8872 - val_loss: 0.2412 - val_acc: 0.8733\b\b\b\b\b\b\b\b\b\b\b\b\b\b\b\b\b\b\b\b\b\b\b\b\b\b\b\b\b\b\b\b\b\b\b\b\b\b\b\b\b\b\b\b\b\b\b\n",
      "Epoch 44/100\n",
      "600/600 [==============================] - 0s - loss: 0.2331 - acc: 0.8900 - val_loss: 0.2397 - val_acc: 0.8733\b\b\b\b\b\b\b\b\b\b\b\b\b\b\b\b\b\b\b\b\b\b\b\b\b\b\b\b\b\b\b\b\b\b\b\b\b\b\b\b\b\b\b\b\b\b\b\n",
      "Epoch 45/100\n",
      "600/600 [==============================] - 0s - loss: 0.2316 - acc: 0.8906 - val_loss: 0.2381 - val_acc: 0.8756\b\b\b\b\b\b\b\b\b\b\b\b\b\b\b\b\b\b\b\b\b\b\b\b\b\b\b\b\b\b\b\b\b\b\b\b\b\b\b\b\b\b\b\b\b\b\b\n",
      "Epoch 46/100\n",
      "600/600 [==============================] - 0s - loss: 0.2302 - acc: 0.8939 - val_loss: 0.2367 - val_acc: 0.8800\b\b\b\b\b\b\b\b\b\b\b\b\b\b\b\b\b\b\b\b\b\b\b\b\b\b\b\b\b\b\b\b\b\b\b\b\b\b\b\b\b\b\b\b\b\b\b\n",
      "Epoch 47/100\n",
      "600/600 [==============================] - 0s - loss: 0.2288 - acc: 0.8950 - val_loss: 0.2352 - val_acc: 0.8822\b\b\b\b\b\b\b\b\b\b\b\b\b\b\b\b\b\b\b\b\b\b\b\b\b\b\b\b\b\b\b\b\b\b\b\b\b\b\b\b\b\b\b\b\b\b\b\n",
      "Epoch 48/100\n",
      "600/600 [==============================] - 0s - loss: 0.2274 - acc: 0.8978 - val_loss: 0.2337 - val_acc: 0.8889\b\b\b\b\b\b\b\b\b\b\b\b\b\b\b\b\b\b\b\b\b\b\b\b\b\b\b\b\b\b\b\b\b\b\b\b\b\b\b\b\b\b\b\b\b\b\b\n",
      "Epoch 49/100\n",
      "600/600 [==============================] - 0s - loss: 0.2261 - acc: 0.8983 - val_loss: 0.2319 - val_acc: 0.8911\b\b\b\b\b\b\b\b\b\b\b\b\b\b\b\b\b\b\b\b\b\b\b\b\b\b\b\b\b\b\b\b\b\b\b\b\b\b\b\b\b\b\b\b\b\b\b\n",
      "Epoch 50/100\n",
      "600/600 [==============================] - 0s - loss: 0.2247 - acc: 0.9022 - val_loss: 0.2305 - val_acc: 0.8911\b\b\b\b\b\b\b\b\b\b\b\b\b\b\b\b\b\b\b\b\b\b\b\b\b\b\b\b\b\b\b\b\b\b\b\b\b\b\b\b\b\b\b\b\b\b\b\n",
      "Epoch 51/100\n",
      "600/600 [==============================] - 0s - loss: 0.2234 - acc: 0.9039 - val_loss: 0.2291 - val_acc: 0.8933\b\b\b\b\b\b\b\b\b\b\b\b\b\b\b\b\b\b\b\b\b\b\b\b\b\b\b\b\b\b\b\b\b\b\b\b\b\b\b\b\b\b\b\b\b\b\b\n",
      "Epoch 52/100\n",
      "600/600 [==============================] - 0s - loss: 0.2220 - acc: 0.9044 - val_loss: 0.2276 - val_acc: 0.8933\b\b\b\b\b\b\b\b\b\b\b\b\b\b\b\b\b\b\b\b\b\b\b\b\b\b\b\b\b\b\b\b\b\b\b\b\b\b\b\b\b\b\b\b\b\b\b\n",
      "Epoch 53/100\n",
      "600/600 [==============================] - 0s - loss: 0.2208 - acc: 0.9072 - val_loss: 0.2262 - val_acc: 0.8933\b\b\b\b\b\b\b\b\b\b\b\b\b\b\b\b\b\b\b\b\b\b\b\b\b\b\b\b\b\b\b\b\b\b\b\b\b\b\b\b\b\b\b\b\b\b\b\n",
      "Epoch 54/100\n",
      "600/600 [==============================] - 0s - loss: 0.2195 - acc: 0.9094 - val_loss: 0.2248 - val_acc: 0.8956\b\b\b\b\b\b\b\b\b\b\b\b\b\b\b\b\b\b\b\b\b\b\b\b\b\b\b\b\b\b\b\b\b\b\b\b\b\b\b\b\b\b\b\b\b\b\b\n",
      "Epoch 55/100\n",
      "600/600 [==============================] - 0s - loss: 0.2183 - acc: 0.9106 - val_loss: 0.2234 - val_acc: 0.8956\b\b\b\b\b\b\b\b\b\b\b\b\b\b\b\b\b\b\b\b\b\b\b\b\b\b\b\b\b\b\b\b\b\b\b\b\b\b\b\b\b\b\b\b\b\b\b\n",
      "Epoch 56/100\n",
      "600/600 [==============================] - 0s - loss: 0.2171 - acc: 0.9111 - val_loss: 0.2222 - val_acc: 0.8978\b\b\b\b\b\b\b\b\b\b\b\b\b\b\b\b\b\b\b\b\b\b\b\b\b\b\b\b\b\b\b\b\b\b\b\b\b\b\b\b\b\b\b\b\b\b\b\n",
      "Epoch 57/100\n",
      "600/600 [==============================] - 0s - loss: 0.2159 - acc: 0.9122 - val_loss: 0.2209 - val_acc: 0.8978\b\b\b\b\b\b\b\b\b\b\b\b\b\b\b\b\b\b\b\b\b\b\b\b\b\b\b\b\b\b\b\b\b\b\b\b\b\b\b\b\b\b\b\b\b\b\b\n",
      "Epoch 58/100\n",
      "600/600 [==============================] - 0s - loss: 0.2147 - acc: 0.9144 - val_loss: 0.2197 - val_acc: 0.8978\b\b\b\b\b\b\b\b\b\b\b\b\b\b\b\b\b\b\b\b\b\b\b\b\b\b\b\b\b\b\b\b\b\b\b\b\b\b\b\b\b\b\b\b\b\b\b\n",
      "Epoch 59/100\n",
      "600/600 [==============================] - 0s - loss: 0.2136 - acc: 0.9144 - val_loss: 0.2183 - val_acc: 0.8978\b\b\b\b\b\b\b\b\b\b\b\b\b\b\b\b\b\b\b\b\b\b\b\b\b\b\b\b\b\b\b\b\b\b\b\b\b\b\b\b\b\b\b\b\b\b\b\n",
      "Epoch 60/100\n",
      "600/600 [==============================] - 0s - loss: 0.2124 - acc: 0.9172 - val_loss: 0.2172 - val_acc: 0.9000\b\b\b\b\b\b\b\b\b\b\b\b\b\b\b\b\b\b\b\b\b\b\b\b\b\b\b\b\b\b\b\b\b\b\b\b\b\b\b\b\b\b\b\b\b\b\b\n",
      "Epoch 61/100\n",
      "600/600 [==============================] - 0s - loss: 0.2113 - acc: 0.9172 - val_loss: 0.2160 - val_acc: 0.9000\b\b\b\b\b\b\b\b\b\b\b\b\b\b\b\b\b\b\b\b\b\b\b\b\b\b\b\b\b\b\b\b\b\b\b\b\b\b\b\b\b\b\b\b\b\b\b\n",
      "Epoch 62/100\n",
      "600/600 [==============================] - 0s - loss: 0.2102 - acc: 0.9183 - val_loss: 0.2149 - val_acc: 0.9000\b\b\b\b\b\b\b\b\b\b\b\b\b\b\b\b\b\b\b\b\b\b\b\b\b\b\b\b\b\b\b\b\b\b\b\b\b\b\b\b\b\b\b\b\b\b\b\n",
      "Epoch 63/100\n",
      "600/600 [==============================] - 0s - loss: 0.2091 - acc: 0.9183 - val_loss: 0.2136 - val_acc: 0.9044\b\b\b\b\b\b\b\b\b\b\b\b\b\b\b\b\b\b\b\b\b\b\b\b\b\b\b\b\b\b\b\b\b\b\b\b\b\b\b\b\b\b\b\b\b\b\b\n",
      "Epoch 64/100\n",
      "600/600 [==============================] - 0s - loss: 0.2080 - acc: 0.9206 - val_loss: 0.2123 - val_acc: 0.9044\b\b\b\b\b\b\b\b\b\b\b\b\b\b\b\b\b\b\b\b\b\b\b\b\b\b\b\b\b\b\b\b\b\b\b\b\b\b\b\b\b\b\b\b\b\b\b\n",
      "Epoch 65/100\n",
      "600/600 [==============================] - 0s - loss: 0.2070 - acc: 0.9244 - val_loss: 0.2113 - val_acc: 0.9044\b\b\b\b\b\b\b\b\b\b\b\b\b\b\b\b\b\b\b\b\b\b\b\b\b\b\b\b\b\b\b\b\b\b\b\b\b\b\b\b\b\b\b\b\b\b\b\n",
      "Epoch 66/100\n",
      "600/600 [==============================] - 0s - loss: 0.2059 - acc: 0.9239 - val_loss: 0.2101 - val_acc: 0.9044\b\b\b\b\b\b\b\b\b\b\b\b\b\b\b\b\b\b\b\b\b\b\b\b\b\b\b\b\b\b\b\b\b\b\b\b\b\b\b\b\b\b\b\b\b\b\b\n",
      "Epoch 67/100\n",
      "600/600 [==============================] - 0s - loss: 0.2049 - acc: 0.9256 - val_loss: 0.2090 - val_acc: 0.9044\b\b\b\b\b\b\b\b\b\b\b\b\b\b\b\b\b\b\b\b\b\b\b\b\b\b\b\b\b\b\b\b\b\b\b\b\b\b\b\b\b\b\b\b\b\b\b\n",
      "Epoch 68/100\n",
      "600/600 [==============================] - 0s - loss: 0.2039 - acc: 0.9267 - val_loss: 0.2079 - val_acc: 0.9089\b\b\b\b\b\b\b\b\b\b\b\b\b\b\b\b\b\b\b\b\b\b\b\b\b\b\b\b\b\b\b\b\b\b\b\b\b\b\b\b\b\b\b\b\b\b\b\n",
      "Epoch 69/100\n",
      "600/600 [==============================] - 0s - loss: 0.2029 - acc: 0.9272 - val_loss: 0.2068 - val_acc: 0.9089\b\b\b\b\b\b\b\b\b\b\b\b\b\b\b\b\b\b\b\b\b\b\b\b\b\b\b\b\b\b\b\b\b\b\b\b\b\b\b\b\b\b\b\b\b\b\b\n",
      "Epoch 70/100\n",
      "600/600 [==============================] - 0s - loss: 0.2019 - acc: 0.9278 - val_loss: 0.2057 - val_acc: 0.9089\b\b\b\b\b\b\b\b\b\b\b\b\b\b\b\b\b\b\b\b\b\b\b\b\b\b\b\b\b\b\b\b\b\b\b\b\b\b\b\b\b\b\b\b\b\b\b\n",
      "Epoch 71/100\n",
      "600/600 [==============================] - 0s - loss: 0.2009 - acc: 0.9278 - val_loss: 0.2047 - val_acc: 0.9089\b\b\b\b\b\b\b\b\b\b\b\b\b\b\b\b\b\b\b\b\b\b\b\b\b\b\b\b\b\b\b\b\b\b\b\b\b\b\b\b\b\b\b\b\b\b\b\n",
      "Epoch 72/100\n",
      "600/600 [==============================] - 0s - loss: 0.1999 - acc: 0.9278 - val_loss: 0.2037 - val_acc: 0.9111\b\b\b\b\b\b\b\b\b\b\b\b\b\b\b\b\b\b\b\b\b\b\b\b\b\b\b\b\b\b\b\b\b\b\b\b\b\b\b\b\b\b\b\b\b\b\b\n",
      "Epoch 73/100\n",
      "600/600 [==============================] - 0s - loss: 0.1990 - acc: 0.9283 - val_loss: 0.2027 - val_acc: 0.9111\b\b\b\b\b\b\b\b\b\b\b\b\b\b\b\b\b\b\b\b\b\b\b\b\b\b\b\b\b\b\b\b\b\b\b\b\b\b\b\b\b\b\b\b\b\b\b\n",
      "Epoch 74/100\n",
      "600/600 [==============================] - 0s - loss: 0.1981 - acc: 0.9283 - val_loss: 0.2016 - val_acc: 0.9178\b\b\b\b\b\b\b\b\b\b\b\b\b\b\b\b\b\b\b\b\b\b\b\b\b\b\b\b\b\b\b\b\b\b\b\b\b\b\b\b\b\b\b\b\b\b\b\n",
      "Epoch 75/100\n",
      "600/600 [==============================] - 0s - loss: 0.1971 - acc: 0.9289 - val_loss: 0.2006 - val_acc: 0.9178\b\b\b\b\b\b\b\b\b\b\b\b\b\b\b\b\b\b\b\b\b\b\b\b\b\b\b\b\b\b\b\b\b\b\b\b\b\b\b\b\b\b\b\b\b\b\b\n",
      "Epoch 76/100\n",
      "600/600 [==============================] - 0s - loss: 0.1962 - acc: 0.9311 - val_loss: 0.1997 - val_acc: 0.9178\b\b\b\b\b\b\b\b\b\b\b\b\b\b\b\b\b\b\b\b\b\b\b\b\b\b\b\b\b\b\b\b\b\b\b\b\b\b\b\b\b\b\b\b\b\b\b\n",
      "Epoch 77/100\n",
      "600/600 [==============================] - 0s - loss: 0.1953 - acc: 0.9311 - val_loss: 0.1987 - val_acc: 0.9200\b\b\b\b\b\b\b\b\b\b\b\b\b\b\b\b\b\b\b\b\b\b\b\b\b\b\b\b\b\b\b\b\b\b\b\b\b\b\b\b\b\b\b\b\b\b\b\n",
      "Epoch 78/100\n",
      "600/600 [==============================] - 0s - loss: 0.1944 - acc: 0.9322 - val_loss: 0.1978 - val_acc: 0.9200\b\b\b\b\b\b\b\b\b\b\b\b\b\b\b\b\b\b\b\b\b\b\b\b\b\b\b\b\b\b\b\b\b\b\b\b\b\b\b\b\b\b\b\b\b\b\b\n",
      "Epoch 79/100\n",
      "600/600 [==============================] - 0s - loss: 0.1936 - acc: 0.9328 - val_loss: 0.1969 - val_acc: 0.9200\b\b\b\b\b\b\b\b\b\b\b\b\b\b\b\b\b\b\b\b\b\b\b\b\b\b\b\b\b\b\b\b\b\b\b\b\b\b\b\b\b\b\b\b\b\b\b\n",
      "Epoch 80/100\n",
      "600/600 [==============================] - 0s - loss: 0.1928 - acc: 0.9344 - val_loss: 0.1960 - val_acc: 0.9200\b\b\b\b\b\b\b\b\b\b\b\b\b\b\b\b\b\b\b\b\b\b\b\b\b\b\b\b\b\b\b\b\b\b\b\b\b\b\b\b\b\b\b\b\b\b\b\n",
      "Epoch 81/100\n",
      "600/600 [==============================] - 0s - loss: 0.1919 - acc: 0.9350 - val_loss: 0.1951 - val_acc: 0.9200\b\b\b\b\b\b\b\b\b\b\b\b\b\b\b\b\b\b\b\b\b\b\b\b\b\b\b\b\b\b\b\b\b\b\b\b\b\b\b\b\b\b\b\b\b\b\b\n",
      "Epoch 82/100\n",
      "600/600 [==============================] - 0s - loss: 0.1910 - acc: 0.9367 - val_loss: 0.1941 - val_acc: 0.9222\b\b\b\b\b\b\b\b\b\b\b\b\b\b\b\b\b\b\b\b\b\b\b\b\b\b\b\b\b\b\b\b\b\b\b\b\b\b\b\b\b\b\b\b\b\b\b\n",
      "Epoch 83/100\n",
      "600/600 [==============================] - 0s - loss: 0.1902 - acc: 0.9383 - val_loss: 0.1932 - val_acc: 0.9200\b\b\b\b\b\b\b\b\b\b\b\b\b\b\b\b\b\b\b\b\b\b\b\b\b\b\b\b\b\b\b\b\b\b\b\b\b\b\b\b\b\b\b\b\b\b\b\n",
      "Epoch 84/100\n",
      "600/600 [==============================] - 0s - loss: 0.1894 - acc: 0.9394 - val_loss: 0.1924 - val_acc: 0.9222\b\b\b\b\b\b\b\b\b\b\b\b\b\b\b\b\b\b\b\b\b\b\b\b\b\b\b\b\b\b\b\b\b\b\b\b\b\b\b\b\b\b\b\b\b\b\b\n",
      "Epoch 85/100\n",
      "600/600 [==============================] - 0s - loss: 0.1886 - acc: 0.9406 - val_loss: 0.1915 - val_acc: 0.9222\b\b\b\b\b\b\b\b\b\b\b\b\b\b\b\b\b\b\b\b\b\b\b\b\b\b\b\b\b\b\b\b\b\b\b\b\b\b\b\b\b\b\b\b\b\b\b\n",
      "Epoch 86/100\n",
      "600/600 [==============================] - 0s - loss: 0.1877 - acc: 0.9400 - val_loss: 0.1906 - val_acc: 0.9222\b\b\b\b\b\b\b\b\b\b\b\b\b\b\b\b\b\b\b\b\b\b\b\b\b\b\b\b\b\b\b\b\b\b\b\b\b\b\b\b\b\b\b\b\b\b\b\n",
      "Epoch 87/100\n",
      "600/600 [==============================] - 0s - loss: 0.1869 - acc: 0.9394 - val_loss: 0.1897 - val_acc: 0.9267\b\b\b\b\b\b\b\b\b\b\b\b\b\b\b\b\b\b\b\b\b\b\b\b\b\b\b\b\b\b\b\b\b\b\b\b\b\b\b\b\b\b\b\b\b\b\b\n",
      "Epoch 88/100\n",
      "600/600 [==============================] - 0s - loss: 0.1862 - acc: 0.9428 - val_loss: 0.1889 - val_acc: 0.9267\b\b\b\b\b\b\b\b\b\b\b\b\b\b\b\b\b\b\b\b\b\b\b\b\b\b\b\b\b\b\b\b\b\b\b\b\b\b\b\b\b\b\b\b\b\b\b\n",
      "Epoch 89/100\n",
      "600/600 [==============================] - 0s - loss: 0.1854 - acc: 0.9428 - val_loss: 0.1881 - val_acc: 0.9289\b\b\b\b\b\b\b\b\b\b\b\b\b\b\b\b\b\b\b\b\b\b\b\b\b\b\b\b\b\b\b\b\b\b\b\b\b\b\b\b\b\b\b\b\b\b\b\n",
      "Epoch 90/100\n",
      "600/600 [==============================] - 0s - loss: 0.1846 - acc: 0.9422 - val_loss: 0.1872 - val_acc: 0.9311\b\b\b\b\b\b\b\b\b\b\b\b\b\b\b\b\b\b\b\b\b\b\b\b\b\b\b\b\b\b\b\b\b\b\b\b\b\b\b\b\b\b\b\b\b\b\b\n",
      "Epoch 91/100\n",
      "600/600 [==============================] - 0s - loss: 0.1838 - acc: 0.9428 - val_loss: 0.1864 - val_acc: 0.9311\b\b\b\b\b\b\b\b\b\b\b\b\b\b\b\b\b\b\b\b\b\b\b\b\b\b\b\b\b\b\b\b\b\b\b\b\b\b\b\b\b\b\b\b\b\b\b\n",
      "Epoch 92/100\n",
      "600/600 [==============================] - 0s - loss: 0.1831 - acc: 0.9428 - val_loss: 0.1856 - val_acc: 0.9289\b\b\b\b\b\b\b\b\b\b\b\b\b\b\b\b\b\b\b\b\b\b\b\b\b\b\b\b\b\b\b\b\b\b\b\b\b\b\b\b\b\b\b\b\b\b\b\n",
      "Epoch 93/100\n",
      "600/600 [==============================] - 0s - loss: 0.1824 - acc: 0.9439 - val_loss: 0.1848 - val_acc: 0.9267\b\b\b\b\b\b\b\b\b\b\b\b\b\b\b\b\b\b\b\b\b\b\b\b\b\b\b\b\b\b\b\b\b\b\b\b\b\b\b\b\b\b\b\b\b\b\b\n",
      "Epoch 94/100\n",
      "600/600 [==============================] - 0s - loss: 0.1816 - acc: 0.9456 - val_loss: 0.1841 - val_acc: 0.9267\b\b\b\b\b\b\b\b\b\b\b\b\b\b\b\b\b\b\b\b\b\b\b\b\b\b\b\b\b\b\b\b\b\b\b\b\b\b\b\b\b\b\b\b\b\b\b\n",
      "Epoch 95/100\n",
      "600/600 [==============================] - 0s - loss: 0.1809 - acc: 0.9456 - val_loss: 0.1834 - val_acc: 0.9267\b\b\b\b\b\b\b\b\b\b\b\b\b\b\b\b\b\b\b\b\b\b\b\b\b\b\b\b\b\b\b\b\b\b\b\b\b\b\b\b\b\b\b\b\b\b\b\n",
      "Epoch 96/100\n",
      "600/600 [==============================] - 0s - loss: 0.1802 - acc: 0.9456 - val_loss: 0.1826 - val_acc: 0.9267\b\b\b\b\b\b\b\b\b\b\b\b\b\b\b\b\b\b\b\b\b\b\b\b\b\b\b\b\b\b\b\b\b\b\b\b\b\b\b\b\b\b\b\b\b\b\b\n",
      "Epoch 97/100\n",
      "600/600 [==============================] - 0s - loss: 0.1795 - acc: 0.9467 - val_loss: 0.1819 - val_acc: 0.9267\b\b\b\b\b\b\b\b\b\b\b\b\b\b\b\b\b\b\b\b\b\b\b\b\b\b\b\b\b\b\b\b\b\b\b\b\b\b\b\b\b\b\b\b\b\b\b\n",
      "Epoch 98/100\n",
      "600/600 [==============================] - 0s - loss: 0.1788 - acc: 0.9456 - val_loss: 0.1811 - val_acc: 0.9267\b\b\b\b\b\b\b\b\b\b\b\b\b\b\b\b\b\b\b\b\b\b\b\b\b\b\b\b\b\b\b\b\b\b\b\b\b\b\b\b\b\b\b\b\b\b\b\n",
      "Epoch 99/100\n",
      "600/600 [==============================] - 0s - loss: 0.1782 - acc: 0.9461 - val_loss: 0.1803 - val_acc: 0.9289\b\b\b\b\b\b\b\b\b\b\b\b\b\b\b\b\b\b\b\b\b\b\b\b\b\b\b\b\b\b\b\b\b\b\b\b\b\b\b\b\b\b\b\b\b\b\b\n",
      "Epoch 100/100\n",
      "600/600 [==============================] - 0s - loss: 0.1774 - acc: 0.9467 - val_loss: 0.1796 - val_acc: 0.9289\b\b\b\b\b\b\b\b\b\b\b\b\b\b\b\b\b\b\b\b\b\b\b\b\b\b\b\b\b\b\b\b\b\b\b\b\b\b\b\b\b\b\b\b\b\b\b\n"
     ]
    }
   ],
   "source": [
    "hist = model.fit(X_train, y_train, nb_epoch = 100, shuffle=True, validation_data = (X_val, y_val))"
   ]
  },
  {
   "cell_type": "code",
   "execution_count": 7,
   "metadata": {
    "collapsed": false
   },
   "outputs": [
    {
     "name": "stdout",
     "output_type": "stream",
     "text": [
      "{'acc': [0.47888889352480568, 0.60166666666666668, 0.64666666746139523, 0.70499999761581422, 0.78555555661519372, 0.8222222208976746, 0.82999999364217125, 0.83555555979410812, 0.84222222010294601, 0.84333333253860476, 0.84611111561457319, 0.84611111005147299, 0.84666666348775232, 0.84722222725550334, 0.85055555661519366, 0.84999999602635701, 0.84999999761581424, 0.85166667064030965, 0.85277777989705406, 0.85444444020589194, 0.85388888676961261, 0.8577777822812398, 0.85722222089767453, 0.85888888676961261, 0.85944444417953492, 0.86000000317891434, 0.86166666666666669, 0.86111111084620162, 0.86222221930821741, 0.8633333341280619, 0.86555556058883665, 0.86722222566604612, 0.86888888915379847, 0.87055554946263636, 0.87055555582046507, 0.87277778069178258, 0.87444444100062058, 0.87555555661519369, 0.88, 0.88166666746139521, 0.88388889392216996, 0.88444444735844929, 0.88722222725550337, 0.88999999364217119, 0.8905555566151937, 0.89388888359069829, 0.89499999602635705, 0.89777778387069707, 0.8983333325386047, 0.90222222089767456, 0.90388888279596968, 0.90444444576899208, 0.9072222224871318, 0.90944444894790655, 0.91055555343627925, 0.91111111561457314, 0.91222221612930299, 0.91444443941116338, 0.9144444465637207, 0.91722222328186032, 0.91722222328186032, 0.91833333651224769, 0.91833333333333333, 0.92055554946263629, 0.92444444100062051, 0.92388888676961267, 0.92555555423100788, 0.92666666905085249, 0.92722221771876012, 0.9277777791023254, 0.92777776956558222, 0.9277777735392253, 0.92833332777023314, 0.92833333333333334, 0.92888888438542683, 0.93111111402511593, 0.93111111084620157, 0.93222222248713171, 0.93277777274449669, 0.9344444402058919, 0.93499999602635697, 0.93666667064030962, 0.93833333333333335, 0.93944444417953488, 0.94055556058883671, 0.94000000715255738, 0.93944444338480626, 0.94277777353922521, 0.94277778307596838, 0.94222221692403163, 0.94277777592341105, 0.94277777592341105, 0.94388888438542684, 0.94555555264155067, 0.94555555343627928, 0.9455555597941081, 0.94666667381922409, 0.94555555264155067, 0.94611111640930179, 0.94666666428248092], 'loss': [1.0056346193949381, 0.75150954325993857, 0.60394982814788822, 0.51441056172053023, 0.45749000867207845, 0.41894842823346456, 0.39169787565867104, 0.37158610304196676, 0.35614335854848228, 0.34372712333997091, 0.33361505945523579, 0.32505209565162657, 0.3177417596181234, 0.31135318160057068, 0.30572504917780557, 0.30064046442508696, 0.29608397960662841, 0.291896090110143, 0.28805842141310373, 0.28446353435516358, 0.28111218849817909, 0.27794789771238965, 0.27502840201059975, 0.27224183777968086, 0.26954855879147849, 0.26698144197463991, 0.26456751624743141, 0.26228584130605059, 0.25995389878749847, 0.25781190395355225, 0.25573244770367942, 0.25364329715569817, 0.25166966517766315, 0.24979957759380342, 0.24791796604792277, 0.24613675057888032, 0.24437612195809683, 0.24263735135396322, 0.240947900613149, 0.2393817357222239, 0.23769919315973917, 0.23615900576114654, 0.23461031575997671, 0.2331339583794276, 0.23163507938385008, 0.23019991040229798, 0.22877825081348419, 0.22740932881832124, 0.22605689406394958, 0.22465037663777671, 0.22336211681365967, 0.22204928119977316, 0.22076773941516875, 0.2195006239414215, 0.21828272084395089, 0.21711737851301829, 0.21589565575122832, 0.21474432150522868, 0.21356349269549052, 0.21241017401218415, 0.21129573365052542, 0.21021981159845987, 0.20914393742879231, 0.20804000854492188, 0.20702284097671508, 0.20591385265191395, 0.20489508430163064, 0.20389403343200685, 0.20286804308493933, 0.2018790986140569, 0.20090489069620768, 0.19994504431883495, 0.1989810331662496, 0.19807304998238881, 0.19709439913431803, 0.19622102518876394, 0.19534589628378551, 0.19440139234066009, 0.19357171078523, 0.19275117437044778, 0.1918532903989156, 0.19102061152458191, 0.19018696427345275, 0.18936405450105667, 0.18856769661108652, 0.18770221889019012, 0.18692923804124195, 0.18617893775304159, 0.18539065639177957, 0.18457554479440053, 0.18383952478567758, 0.18311267872651418, 0.18237112581729889, 0.18162561645110448, 0.18089934289455414, 0.18017180979251862, 0.17952188948790232, 0.17879226605097454, 0.17815421422322592, 0.17742400685946147], 'val_acc': [0.54222222884496052, 0.60222222725550334, 0.63333333412806192, 0.70888888994852706, 0.77111111005147304, 0.80444444974263507, 0.82444443066914874, 0.82666665712992349, 0.83111109733581545, 0.83111109733581545, 0.83333332618077594, 0.83333332618077594, 0.83333332618077594, 0.83333332618077594, 0.83333332618077594, 0.83333332618077594, 0.83333332618077594, 0.83333332618077594, 0.83555555264155068, 0.84444444576899214, 0.84444444576899214, 0.84444444576899214, 0.84444444576899214, 0.84444444576899214, 0.84222221930821739, 0.84222221930821739, 0.84444443941116332, 0.84444443941116332, 0.84666666587193806, 0.84888889233271281, 0.85111110607783003, 0.85111110607783003, 0.85555555899937952, 0.85555555899937952, 0.85555555899937952, 0.85777777274449662, 0.85777777274449662, 0.85999999920527137, 0.86222221295038859, 0.86666665315628055, 0.8688888796170553, 0.8688888796170553, 0.87333333253860479, 0.87333333253860479, 0.87555555899937942, 0.88000000556310021, 0.88222223202387495, 0.88888889233271284, 0.89111110607782995, 0.89111110607782995, 0.89333332618077599, 0.89333332618077599, 0.89333332618077599, 0.8955555399258931, 0.8955555399258931, 0.89777775367101031, 0.89777775367101031, 0.89777775367101031, 0.89777775367101031, 0.89999998013178506, 0.89999998013178506, 0.89999998013178506, 0.90444443782170614, 0.90444443782170614, 0.90444443782170614, 0.90444443782170614, 0.90444443782170614, 0.90888889074325563, 0.90888889074325563, 0.90888889074325563, 0.90888889074325563, 0.91111111720403037, 0.91111111720403037, 0.91777777751286826, 0.91777777751286826, 0.91777777751286826, 0.92000000397364301, 0.92000000397364301, 0.92000000397364301, 0.92000000397364301, 0.92000000397364301, 0.92222223043441776, 0.92000000397364301, 0.92222221771876012, 0.92222221771876012, 0.92222221771876012, 0.92666667064030961, 0.92666667064030961, 0.92888889710108435, 0.93111111084620157, 0.93111111084620157, 0.92888888438542683, 0.92666667064030961, 0.92666667064030961, 0.92666667064030961, 0.92666667064030961, 0.92666667064030961, 0.92666667064030961, 0.92888889710108435, 0.92888889710108435], 'val_loss': [0.88562473615010584, 0.69895230372746786, 0.58492534240086869, 0.512325537999471, 0.46357941150665283, 0.42927173654238382, 0.40422289609909057, 0.3851017117500305, 0.3699699318408966, 0.35763123671213787, 0.34733917792638141, 0.33851615985234579, 0.33084320584932964, 0.32403150081634524, 0.31812020738919577, 0.31281700968742371, 0.3079493447144826, 0.30353612780570982, 0.2994623068968455, 0.29557023882865907, 0.29191224932670595, 0.28854881167411806, 0.28535430749257407, 0.28226687749226886, 0.27931964993476865, 0.27650577028592427, 0.27395793159802756, 0.27140716512997948, 0.26896178285280864, 0.26661392728487648, 0.26432139476140343, 0.26201845169067384, 0.25987766663233441, 0.25779198487599692, 0.25575667262077334, 0.25378229300181071, 0.25192030390103659, 0.25011650443077088, 0.24812439759572347, 0.24626772721608481, 0.24465244134267172, 0.24291727582613626, 0.24124184489250183, 0.2396824562549591, 0.23814637025197347, 0.23669431169827779, 0.23515834212303161, 0.2336611251036326, 0.23194546858469645, 0.23045247197151184, 0.22907647609710693, 0.22757286548614503, 0.2261596663792928, 0.22477428595225016, 0.22342031915982563, 0.22215355078379312, 0.22090539495150249, 0.21969863494237263, 0.21834401448567708, 0.21720162312189739, 0.21601935942967732, 0.21489121516545615, 0.2135592476526896, 0.21230981091658274, 0.21128294328848521, 0.21010962426662444, 0.208956867257754, 0.2078539901971817, 0.2068212201197942, 0.2057301265001297, 0.2047060086329778, 0.20366705338160196, 0.20268449783325196, 0.20161971807479859, 0.20061175942420958, 0.1997226752837499, 0.19873568455378215, 0.1977824091911316, 0.19688010772069295, 0.19601534247398378, 0.19508727689584096, 0.19414596954981486, 0.19319793283939363, 0.19236465116341908, 0.19147159159183502, 0.19061813255151114, 0.18970238626003266, 0.18887491941452025, 0.18809007108211517, 0.18722484489281974, 0.18644695599873862, 0.18559030870596568, 0.18475052773952483, 0.18407485564549764, 0.1833661969502767, 0.18258495032787322, 0.18189086298147839, 0.18113581617673238, 0.18034300764401753, 0.17962879220644634]}\n",
      "['acc', 'loss', 'val_acc', 'val_loss']\n"
     ]
    }
   ],
   "source": [
    "print hist.history\n",
    "print hist.history.keys()"
   ]
  },
  {
   "cell_type": "code",
   "execution_count": 8,
   "metadata": {
    "collapsed": false
   },
   "outputs": [
    {
     "data": {
      "image/png": "[encoded data removed]",
      "text/plain": [
       "<matplotlib.figure.Figure at 0x7facd7895550>"
      ]
     },
     "metadata": {},
     "output_type": "display_data"
    },
    {
     "data": {
      "image/png": "[encoded data removed]",
      "text/plain": [
       "<matplotlib.figure.Figure at 0x7facd7c85e90>"
      ]
     },
     "metadata": {},
     "output_type": "display_data"
    }
   ],
   "source": [
    "plt.figure(0)\n",
    "plt.plot(hist.history['loss'], 'b')\n",
    "plt.plot(hist.history['val_loss'], 'r')\n",
    "\n",
    "plt.figure(1)\n",
    "plt.plot(hist.history['acc'], 'b')\n",
    "plt.plot(hist.history['val_acc'], 'r')\n",
    "plt.show()\n",
    "# print hist.history.keys()"
   ]
  },
  {
   "cell_type": "markdown",
   "metadata": {},
   "source": [
    "### Therefore Training accuracy of 94.67% and Validation accuracy of 92.8% achieved in 100 epochs of a simple neural network."
   ]
  },
  {
   "cell_type": "code",
   "execution_count": null,
   "metadata": {
    "collapsed": true
   },
   "outputs": [],
   "source": []
  }
 ],
 "metadata": {
  "kernelspec": {
   "display_name": "Python 2",
   "language": "python",
   "name": "python2"
  },
  "language_info": {
   "codemirror_mode": {
    "name": "ipython",
    "version": 2
   },
   "file_extension": ".py",
   "mimetype": "text/x-python",
   "name": "python",
   "nbconvert_exporter": "python",
   "pygments_lexer": "ipython2",
   "version": "2.7.12"
  }
 },
 "nbformat": 4,
 "nbformat_minor": 2
}
